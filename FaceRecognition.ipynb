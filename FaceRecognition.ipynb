{
 "cells": [
  {
   "cell_type": "code",
   "execution_count": 1,
   "id": "460b583d",
   "metadata": {},
   "outputs": [],
   "source": [
    "import face_recognition\n",
    "import cv2\n",
    "from datetime import datetime, timedelta\n",
    "import numpy as np\n",
    "import platform\n",
    "import pickle"
   ]
  },
  {
   "cell_type": "code",
   "execution_count": 2,
   "id": "c958f354",
   "metadata": {},
   "outputs": [],
   "source": [
    "known_face_encodings = []\n",
    "known_face_metadata = []"
   ]
  },
  {
   "cell_type": "code",
   "execution_count": 3,
   "id": "6b82bfad",
   "metadata": {},
   "outputs": [],
   "source": [
    "def save_known_faces():\n",
    "    with open(\"known_faces.dat\", \"wb\") as face_data_file:\n",
    "        face_data = [known_face_encodings, known_face_metadata]\n",
    "        pickle.dump(face_data, face_data_file)\n",
    "        print(\"Known faces backed up to disk.\")"
   ]
  },
  {
   "cell_type": "code",
   "execution_count": 4,
   "id": "cc9740dd",
   "metadata": {},
   "outputs": [],
   "source": [
    "def load_known_faces():\n",
    "    global known_face_encodings, known_face_metadata\n",
    "\n",
    "    try:\n",
    "        with open(\"known_faces.dat\", \"rb\") as face_data_file:\n",
    "            known_face_encodings, known_face_metadata = pickle.load(face_data_file)\n",
    "            print(\"Known faces loaded from disk.\")\n",
    "    except FileNotFoundError as e:\n",
    "        print(\"No previous face data found - starting with a blank known face list.\")\n",
    "        pass"
   ]
  },
  {
   "cell_type": "code",
   "execution_count": 5,
   "id": "20273727",
   "metadata": {},
   "outputs": [],
   "source": [
    "def register_new_face(face_encoding, face_image):\n",
    "    known_face_encodings.append(face_encoding)\n",
    "    known_face_metadata.append({\n",
    "        \"first_seen\": datetime.now(),\n",
    "        \"first_seen_this_interaction\": datetime.now(),\n",
    "        \"last_seen\": datetime.now(),\n",
    "        \"seen_count\": 1,\n",
    "        \"seen_frames\": 1,\n",
    "        \"face_image\": face_image,})"
   ]
  },
  {
   "cell_type": "code",
   "execution_count": 6,
   "id": "a2c89c59",
   "metadata": {},
   "outputs": [],
   "source": [
    "def lookup_known_face(face_encoding):\n",
    "    metadata = None\n",
    "    \n",
    "    if len(known_face_encodings) == 0:\n",
    "        return metadata\n",
    "    \n",
    "    face_distances = face_recognition.face_distance(known_face_encodings, face_encoding)\n",
    "    best_match_index = np.argmin(face_distances)\n",
    "    \n",
    "    if face_distances[best_match_index] < 0.65:\n",
    "        \n",
    "        metadata = known_face_metadata[best_match_index]\n",
    "        metadata[\"last_seen\"] = datetime.now()\n",
    "        metadata[\"seen_frames\"] += 1\n",
    "        \n",
    "        if datetime.now() - metadata[\"first_seen_this_interaction\"] > timedelta(minutes=5):\n",
    "            metadata[\"first_seen_this_interaction\"] = datetime.now()\n",
    "            metadata[\"seen_count\"] += 1\n",
    "            \n",
    "    return metadata"
   ]
  },
  {
   "cell_type": "code",
   "execution_count": 7,
   "id": "78bcc82c",
   "metadata": {},
   "outputs": [
    {
     "name": "stdout",
     "output_type": "stream",
     "text": [
      "No previous face data found - starting with a blank known face list.\n"
     ]
    }
   ],
   "source": [
    "number_of_faces_since_save = 0\n",
    "load_known_faces()"
   ]
  },
  {
   "cell_type": "code",
   "execution_count": null,
   "id": "447ff843",
   "metadata": {},
   "outputs": [],
   "source": [
    "while True:\n",
    "    \n",
    "    video_capture = cv2.VideoCapture(0)\n",
    "    # Grab a single frame of video\n",
    "    ret, frame = video_capture.read()\n",
    "    # Resize frame of video to 1/4 size\n",
    "    small_frame = cv2.resize(frame, (0, 0), fx=0.25, fy=0.25)\n",
    "    # Convert the image from BGR color\n",
    "    rgb_small_frame = small_frame[:, :, ::-1]\n",
    "    \n",
    "    face_locations = face_recognition.face_locations(rgb_small_frame)\n",
    "    face_encodings = face_recognition.face_encodings(rgb_small_frame, face_locations)\n",
    "    \n",
    "    face_labels = []\n",
    "    for face_location, face_encoding in zip(face_locations, face_encodings):\n",
    "        metadata = lookup_known_face(face_encoding)\n",
    "    \n",
    "        if metadata is not None:\n",
    "            time_at_door = datetime.now() - metadata['first_seen_this_interaction']\n",
    "            face_label = f\"At door {int(time_at_door.total_seconds())}s\"\n",
    "        \n",
    "        else:\n",
    "            face_label = \"New visitor!\"\n",
    "            # Grab the image of the face\n",
    "            top, right, bottom, left = face_location\n",
    "            face_image = small_frame[top:bottom, left:right]\n",
    "            face_image = cv2.resize(face_image, (150, 150))\n",
    "            # Add the new face to our known face data\n",
    "            register_new_face(face_encoding, face_image)\n",
    "    \n",
    "    for (top, right, bottom, left), face_label in zip(face_locations, face_labels):\n",
    "        # Scale back up face location\n",
    "        # since the frame we detected in was 1/4 size\n",
    "        top *= 4\n",
    "        right *= 4\n",
    "        bottom *= 4\n",
    "        left *= 4\n",
    "        # Draw a box around the face\n",
    "        cv2.rectangle(frame, (left, top), (right, bottom), (0, 0, 255), 2)\n",
    "        # Draw a label with a description below the face\n",
    "        cv2.rectangle(frame, (left, bottom - 35), (right, bottom), (0, 0, 255), cv2.FILLED)\n",
    "        cv2.putText(frame, face_label, (left + 6, bottom - 6), cv2.FONT_HERSHEY_DUPLEX, 0.8, (255, 255, 255), 1)\n",
    "        \n",
    "        \n",
    "    number_of_recent_visitors = 0\n",
    "    for metadata in known_face_metadata:\n",
    "        # If we have seen this person in the last minute\n",
    "        if datetime.now() - metadata[\"last_seen\"] < timedelta(seconds=10):\n",
    "            # Draw the known face image\n",
    "            x_position = number_of_recent_visitors * 150\n",
    "            frame[30:180, x_position:x_position + 150] = metadata[\"face_image\"]\n",
    "            number_of_recent_visitors += 1\n",
    "            # Label the image with how many times they have visited\n",
    "            visits = metadata['seen_count']\n",
    "            visit_label = f\"{visits} visits\"\n",
    "            \n",
    "        if visits == 1:\n",
    "            visit_label = \"First visit\"\n",
    "            cv2.putText(\n",
    "                frame, visit_label, \n",
    "                (x_position + 10, 170), \n",
    "                cv2.FONT_HERSHEY_DUPLEX, 0.6, \n",
    "                (255, 255, 255), 1\n",
    "            )\n",
    "            \n",
    "        if number_of_recent_visitors > 0:\n",
    "            cv2.putText(frame, \"Visitors at Door\", (5, 18), cv2.FONT_HERSHEY_DUPLEX, 0.8, (255, 255, 255), 1)\n",
    "        \n",
    "\n",
    "    \n",
    "    if len(face_locations) > 0 and number_of_faces_since_save > 100:\n",
    "        save_known_faces()\n",
    "        number_of_faces_since_save = 0\n",
    "    else:\n",
    "        number_of_faces_since_save += 1\n",
    "        \n",
    "    cv2.imshow('Webcam_facerecognition', frame)\n",
    "\n",
    "    if cv2.waitKey(1) & 0xFF == ord('q'):\n",
    "        break\n",
    "\n",
    "video_capture.release()\n",
    "cv2.destroyAllWindows()"
   ]
  },
  {
   "cell_type": "code",
   "execution_count": null,
   "id": "205d7eed",
   "metadata": {},
   "outputs": [],
   "source": []
  },
  {
   "cell_type": "code",
   "execution_count": null,
   "id": "53c1932a",
   "metadata": {},
   "outputs": [],
   "source": []
  },
  {
   "cell_type": "code",
   "execution_count": null,
   "id": "def46218",
   "metadata": {},
   "outputs": [],
   "source": []
  },
  {
   "cell_type": "code",
   "execution_count": null,
   "id": "ba780114",
   "metadata": {},
   "outputs": [],
   "source": []
  },
  {
   "cell_type": "code",
   "execution_count": null,
   "id": "f724e686",
   "metadata": {},
   "outputs": [],
   "source": []
  },
  {
   "cell_type": "code",
   "execution_count": null,
   "id": "511beeae",
   "metadata": {},
   "outputs": [],
   "source": []
  }
 ],
 "metadata": {
  "kernelspec": {
   "display_name": "Python 3 (ipykernel)",
   "language": "python",
   "name": "python3"
  },
  "language_info": {
   "codemirror_mode": {
    "name": "ipython",
    "version": 3
   },
   "file_extension": ".py",
   "mimetype": "text/x-python",
   "name": "python",
   "nbconvert_exporter": "python",
   "pygments_lexer": "ipython3",
   "version": "3.9.12"
  }
 },
 "nbformat": 4,
 "nbformat_minor": 5
}
